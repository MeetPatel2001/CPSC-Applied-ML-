{
 "cells": [
  {
   "cell_type": "code",
   "execution_count": 4,
   "id": "5fe87b3d",
   "metadata": {},
   "outputs": [],
   "source": [
    "import pandas as pd\n",
    "\n",
    "# Load the CSV file into a DataFrame\n",
    "df = pd.read_csv(\"Result.csv\", encoding='latin1')\n",
    "\n",
    "# Extract the 'incident_description' column\n",
    "incident_descriptions = df['incident_description']\n",
    "\n",
    "# Create a new DataFrame with just the 'incident_description' column\n",
    "incident_df = pd.DataFrame({'incident_description': incident_descriptions})\n",
    "\n",
    "# Save the DataFrame to a CSV file\n",
    "incident_df.to_csv('incident_descriptions.csv', index=False)"
   ]
  }
 ],
 "metadata": {
  "kernelspec": {
   "display_name": "Python 3 (ipykernel)",
   "language": "python",
   "name": "python3"
  },
  "language_info": {
   "codemirror_mode": {
    "name": "ipython",
    "version": 3
   },
   "file_extension": ".py",
   "mimetype": "text/x-python",
   "name": "python",
   "nbconvert_exporter": "python",
   "pygments_lexer": "ipython3",
   "version": "3.10.13"
  }
 },
 "nbformat": 4,
 "nbformat_minor": 5
}
